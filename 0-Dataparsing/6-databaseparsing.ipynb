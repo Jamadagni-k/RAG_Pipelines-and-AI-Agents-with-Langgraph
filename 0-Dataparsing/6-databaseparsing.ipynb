{
 "cells": [
  {
   "cell_type": "markdown",
   "id": "35443ee3",
   "metadata": {},
   "source": [
    "### SQL Databases"
   ]
  },
  {
   "cell_type": "code",
   "execution_count": 1,
   "id": "5cd4bf42",
   "metadata": {},
   "outputs": [],
   "source": [
    "## Create sample SQLite Database\n",
    "import sqlite3\n",
    "import os\n",
    "\n",
    "os.makedirs(\"data/databases\", exist_ok=True) #exist_ok=True if the file is there no need to create again and vice versa if it is false\n"
   ]
  },
  {
   "cell_type": "code",
   "execution_count": 2,
   "id": "61e11c03",
   "metadata": {},
   "outputs": [],
   "source": [
    "#Create sample database\n",
    "conn = sqlite3.connect(\"data/databases/company.db\")\n",
    "cursor = conn.cursor()\n"
   ]
  },
  {
   "cell_type": "code",
   "execution_count": 3,
   "id": "c69ca726",
   "metadata": {},
   "outputs": [
    {
     "data": {
      "text/plain": [
       "<sqlite3.Cursor at 0x103f53b40>"
      ]
     },
     "execution_count": 3,
     "metadata": {},
     "output_type": "execute_result"
    }
   ],
   "source": [
    "#Create tables\n",
    "cursor.execute(\"\"\"CREATE TABLE IF NOT EXISTS employees\n",
    "(id INTEGER PRIMARY KEY, name TEXT, role TEXT, department TEXT, salary REAL)\"\"\")"
   ]
  },
  {
   "cell_type": "code",
   "execution_count": 4,
   "id": "ca7767f8",
   "metadata": {},
   "outputs": [
    {
     "data": {
      "text/plain": [
       "<sqlite3.Cursor at 0x103f53b40>"
      ]
     },
     "execution_count": 4,
     "metadata": {},
     "output_type": "execute_result"
    }
   ],
   "source": [
    "cursor.execute(\"\"\"CREATE TABLE IF NOT EXISTS projects\n",
    "(id INTEGER PRIMARY KEY, name TEXT, status TEXT, budget TEXT, lead_id INTEGER)\"\"\")"
   ]
  },
  {
   "cell_type": "code",
   "execution_count": 5,
   "id": "4e59b240",
   "metadata": {},
   "outputs": [],
   "source": [
    "employees = [\n",
    "    (1, 'John Doe', 'Senior Developer', 'Engineering', 95000),\n",
    "    (2, 'Jane Smith', 'Data Scientist', 'Analytics', 105000),\n",
    "    (3, 'Mike Johnson', 'Product Manager', 'Product', 110000),\n",
    "    (4, 'Sarah Williams', 'DevOps Engineer', 'Engineering', 98000)\n",
    "]\n",
    "\n",
    "projects = [\n",
    "    (1, 'RAG Implementation', 'Active', 150000, 1),\n",
    "    (2, 'Data Pipeline', 'Completed', 80000, 2),\n",
    "    (3, 'Customer Portal', 'Planning', 200000, 3),\n",
    "    (4, 'ML Platform', 'Active', 250000, 2)\n",
    "]"
   ]
  },
  {
   "cell_type": "code",
   "execution_count": 6,
   "id": "e4a344e0",
   "metadata": {},
   "outputs": [
    {
     "data": {
      "text/plain": [
       "<sqlite3.Cursor at 0x103f53b40>"
      ]
     },
     "execution_count": 6,
     "metadata": {},
     "output_type": "execute_result"
    }
   ],
   "source": [
    "cursor.executemany('INSERT OR REPLACE INTO employees VALUES (?,?,?,?,?)', employees)"
   ]
  },
  {
   "cell_type": "code",
   "execution_count": 7,
   "id": "8ee4c5f9",
   "metadata": {},
   "outputs": [
    {
     "data": {
      "text/plain": [
       "<sqlite3.Cursor at 0x103f53b40>"
      ]
     },
     "execution_count": 7,
     "metadata": {},
     "output_type": "execute_result"
    }
   ],
   "source": [
    "cursor.executemany('INSERT OR REPLACE INTO projects VALUES (?,?,?,?,?)', projects)"
   ]
  },
  {
   "cell_type": "code",
   "execution_count": 8,
   "id": "342731c5",
   "metadata": {},
   "outputs": [
    {
     "data": {
      "text/plain": [
       "<sqlite3.Cursor at 0x103f53b40>"
      ]
     },
     "execution_count": 8,
     "metadata": {},
     "output_type": "execute_result"
    }
   ],
   "source": [
    "cursor.execute(\"select * from employees\")"
   ]
  },
  {
   "cell_type": "code",
   "execution_count": 9,
   "id": "fdee9f89",
   "metadata": {},
   "outputs": [],
   "source": [
    "conn.commit()\n",
    "conn.close()"
   ]
  },
  {
   "cell_type": "markdown",
   "id": "6c35bc0b",
   "metadata": {},
   "source": [
    "### Database Content Extraction"
   ]
  },
  {
   "cell_type": "code",
   "execution_count": 10,
   "id": "9c4e56ec",
   "metadata": {},
   "outputs": [],
   "source": [
    "from langchain_community.utilities import SQLDatabase\n",
    "from langchain_community.document_loaders import SQLDatabaseLoader"
   ]
  },
  {
   "cell_type": "code",
   "execution_count": 11,
   "id": "519864ac",
   "metadata": {},
   "outputs": [
    {
     "name": "stdout",
     "output_type": "stream",
     "text": [
      "Tables: ['employees', 'projects']\n",
      "\n",
      "Table DDL :\n",
      "\n",
      "CREATE TABLE employees (\n",
      "\tid INTEGER, \n",
      "\tname TEXT, \n",
      "\trole TEXT, \n",
      "\tdepartment TEXT, \n",
      "\tsalary REAL, \n",
      "\tPRIMARY KEY (id)\n",
      ")\n",
      "\n",
      "/*\n",
      "3 rows from employees table:\n",
      "id\tname\trole\tdepartment\tsalary\n",
      "1\tJohn Doe\tSenior Developer\tEngineering\t95000.0\n",
      "2\tJane Smith\tData Scientist\tAnalytics\t105000.0\n",
      "3\tMike Johnson\tProduct Manager\tProduct\t110000.0\n",
      "*/\n",
      "\n",
      "\n",
      "CREATE TABLE projects (\n",
      "\tid INTEGER, \n",
      "\tname TEXT, \n",
      "\tstatus TEXT, \n",
      "\tbudget REAL, \n",
      "\tlead_id INTEGER, \n",
      "\tPRIMARY KEY (id)\n",
      ")\n",
      "\n",
      "/*\n",
      "3 rows from projects table:\n",
      "id\tname\tstatus\tbudget\tlead_id\n",
      "1\tRAG Implementation\tActive\t150000.0\t1\n",
      "2\tData Pipeline\tCompleted\t80000.0\t2\n",
      "3\tCustomer Portal\tPlanning\t200000.0\t3\n",
      "*/\n"
     ]
    }
   ],
   "source": [
    "# Method 1 SQLDATABASE Utility\n",
    "db = SQLDatabase.from_uri(\"sqlite:///data/databases/company.db\")\n",
    "\n",
    "## get Database info\n",
    "print(f\"Tables: {db.get_usable_table_names()}\")\n",
    "print(f\"\\nTable DDL :\")\n",
    "print(db.get_table_info())"
   ]
  },
  {
   "cell_type": "code",
   "execution_count": 12,
   "id": "066c68e5",
   "metadata": {},
   "outputs": [
    {
     "name": "stdout",
     "output_type": "stream",
     "text": [
      "\n",
      " Custom SQL Processing\n"
     ]
    }
   ],
   "source": [
    "from typing import List\n",
    "from langchain_core.documents import Document\n",
    "# Method 2: Custom SQL to Document conversion\n",
    "print(\"\\n Custom SQL Processing\")\n",
    "def sql_to_documents(db_path:str) -> List[Document]:\n",
    "    \"\"\"Convert SQL Database to SQL Database To Documents with context\"\"\"\n",
    "    conn = sqlite3.connect(db_path)\n",
    "    cursor=conn.cursor()\n",
    "    documents = []          \n",
    "    # Strategy 1 : Create documents for each table\n",
    "    cursor.execute(\"SELECT name FROM sqlite_master WHERE type='table';\")     \n",
    "    tables = cursor.fetchall()\n",
    "\n",
    "    for table in tables:\n",
    "        table_name=table[0]\n",
    "\n",
    "        #Get Table Schema\n",
    "        cursor.execute(f\"PRAGMA table_info({table_name});\")\n",
    "        columns = cursor.fetchall()\n",
    "        column_names = [col[1] for col in columns]\n",
    "\n",
    "        #Get Table data\n",
    "        cursor.execute(f\"SELECT * FROM {table_name}\")\n",
    "        rows = cursor.fetchall()\n",
    "\n",
    "        #Create table data\n",
    "        cursor.execute(f\"SELECT * from {table_name}\")\n",
    "        rows = cursor.fetchall()\n",
    "\n",
    "        #Create table overview document\n",
    "        table_content = f\"Table : {table_name}\\n\"\n",
    "        table_content += f\"Columns :{','.join(column_names)}\\n\"\n",
    "        table_content += f\"Total Records: {len(rows)}\\n\\n\"\n",
    "\n",
    "        #Add Sample records\n",
    "        table_content += \"Sample Records :\\n\"\n",
    "        for row in rows[:]:  #First 5 Records\n",
    "            record = dict(zip(column_names,row))\n",
    "            table_content += f\"{record}\\n\"\n",
    "\n",
    "        doc = Document(\n",
    "            page_content=table_content,\n",
    "            metadata={\n",
    "                'source' : db_path,\n",
    "                'table_name' : table_name,\n",
    "                \"num_records\" : len(rows),\n",
    "                'data_type' : 'sql_table'\n",
    "            }\n",
    "        )\n",
    "        documents.append(doc)"
   ]
  },
  {
   "cell_type": "code",
   "execution_count": 13,
   "id": "5768fcad",
   "metadata": {},
   "outputs": [],
   "source": [
    "sql_to_documents(\"data/databases/company.db\")\n"
   ]
  },
  {
   "cell_type": "code",
   "execution_count": null,
   "id": "7169482a",
   "metadata": {},
   "outputs": [],
   "source": []
  }
 ],
 "metadata": {
  "kernelspec": {
   "display_name": "RAG_Pipelines (3.13.3)",
   "language": "python",
   "name": "python3"
  },
  "language_info": {
   "codemirror_mode": {
    "name": "ipython",
    "version": 3
   },
   "file_extension": ".py",
   "mimetype": "text/x-python",
   "name": "python",
   "nbconvert_exporter": "python",
   "pygments_lexer": "ipython3",
   "version": "3.13.3"
  }
 },
 "nbformat": 4,
 "nbformat_minor": 5
}
